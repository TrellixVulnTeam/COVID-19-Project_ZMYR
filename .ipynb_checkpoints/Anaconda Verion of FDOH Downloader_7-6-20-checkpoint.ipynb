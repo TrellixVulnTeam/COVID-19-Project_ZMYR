{
 "cells": [
  {
   "cell_type": "markdown",
   "metadata": {
    "collapsed": true
   },
   "source": [
    "# Downloading COVID Data From FloridaDisaster.ORG"
   ]
  },
  {
   "cell_type": "markdown",
   "metadata": {},
   "source": [
    "### To Do\n",
    "- [ ] Fix the problem where before doh reported 0 as 0 and not missing, I can't use the data\n",
    "- [X] Extract the page range 12-25\n",
    "- [X] Find the pages that contain the words \"Coronavirus: All persons tested\"\n",
    "- [X] Extract just those two pages pdf \n",
    "- [X] Export individual files to txt for storage\n",
    "\n"
   ]
  },
  {
   "cell_type": "code",
   "execution_count": 4,
   "metadata": {},
   "outputs": [],
   "source": [
    "from selenium import webdriver\n",
    "import os\n",
    "import wget\n",
    "import PyPDF2 as pdf\n",
    "from PyPDF2 import PdfFileReader, PdfFileWriter\n",
    "import time\n",
    "import textract\n",
    "from pathlib import Path\n",
    "import re\n",
    "import pandas as pd\n",
    "import datetime"
   ]
  },
  {
   "cell_type": "code",
   "execution_count": 3,
   "metadata": {},
   "outputs": [],
   "source": [
    "chrome_path = r\"chromedriver.exe\""
   ]
  },
  {
   "cell_type": "markdown",
   "metadata": {},
   "source": [
    "## Initializing driver element and finding "
   ]
  },
  {
   "cell_type": "code",
   "execution_count": 4,
   "metadata": {},
   "outputs": [],
   "source": [
    "driver = webdriver.Chrome(chrome_path)\n",
    "driver.get('https://floridadisaster.org/covid19/covid-19-data-reports/')\n",
    "title = driver.title\n",
    "time.sleep(3)\n",
    "result = driver.find_elements_by_xpath(\"//a[@href]\")"
   ]
  },
  {
   "cell_type": "code",
   "execution_count": null,
   "metadata": {},
   "outputs": [],
   "source": [
    "print(result[220].text)"
   ]
  },
  {
   "cell_type": "code",
   "execution_count": null,
   "metadata": {},
   "outputs": [],
   "source": [
    "# type(result)"
   ]
  },
  {
   "cell_type": "code",
   "execution_count": null,
   "metadata": {},
   "outputs": [],
   "source": [
    "# print(len(result))"
   ]
  },
  {
   "cell_type": "code",
   "execution_count": null,
   "metadata": {},
   "outputs": [],
   "source": [
    "print(result)"
   ]
  },
  {
   "cell_type": "code",
   "execution_count": 5,
   "metadata": {},
   "outputs": [],
   "source": [
    "cwd = os.getcwd()"
   ]
  },
  {
   "cell_type": "code",
   "execution_count": 6,
   "metadata": {},
   "outputs": [],
   "source": [
    "pdf_output_path = Path(f'{cwd}/Data/PDF')"
   ]
  },
  {
   "cell_type": "code",
   "execution_count": null,
   "metadata": {},
   "outputs": [],
   "source": [
    "print(pdf_output_path)"
   ]
  },
  {
   "cell_type": "markdown",
   "metadata": {},
   "source": [
    "## Downloads the PDF Files from the FDEM Website"
   ]
  },
  {
   "cell_type": "code",
   "execution_count": 8,
   "metadata": {},
   "outputs": [
    {
     "name": "stdout",
     "output_type": "stream",
     "text": [
      "0.498% Complete\r"
     ]
    }
   ],
   "source": [
    "link_counter = 0\n",
    "len_result = len(result)\n",
    "for links in result:\n",
    "    if links.text.find('Data Report') > 0:\n",
    "        link_url = links.get_attribute('href')\n",
    "        filename = wget.filename_from_url(link_url)\n",
    "        if not os.path.exists(f'{pdf_output_path}/{filename}'):\n",
    "            wget.download(link_url, out = f'{pdf_output_path}')\n",
    "        link_counter +=1\n",
    "        print (f'{round((link_counter * 2)/len_result,3)*100}% Complete',end='\\r')\n",
    "\n",
    " "
   ]
  },
  {
   "cell_type": "markdown",
   "metadata": {},
   "source": [
    "### Extracting PDF text"
   ]
  },
  {
   "cell_type": "code",
   "execution_count": null,
   "metadata": {},
   "outputs": [],
   "source": [
    "print(pdf_file)"
   ]
  },
  {
   "cell_type": "code",
   "execution_count": 3,
   "metadata": {},
   "outputs": [],
   "source": [
    "county_list = ['Alachua', 'Dade','Baker', 'Bay', 'Bradford', 'Brevard', 'Broward', 'Calhoun', 'Charlotte', 'Citrus', 'Clay', 'Collier', 'Columbia', 'Dade', 'Desoto', 'Dixie', 'Duval', 'Escambia', 'Flagler', 'Franklin', 'Gadsden', 'Gilchrist', 'Glades', 'Gulf', 'Hamilton', 'Hardee', 'Hendry', 'Hernando', 'Highlands', 'Hillsborough', 'Holmes', 'Indian River', 'Jackson', 'Jefferson', 'Lafayette', 'Lake', 'Lee', 'Leon', 'Levy', 'Liberty', 'Madison', 'Manatee', 'Marion', 'Martin', 'Monroe', 'Nassau', 'Okaloosa', 'Okeechobee', 'Orange', 'Osceola', 'Palm Beach', 'Pasco', 'Pinellas', 'Polk', 'Putnam', 'Santa Rosa', 'Sarasota', 'Seminole', 'St. Johns', 'St. Lucie', 'Sumter', 'Suwannee', 'Taylor', 'Union', 'Unknown', 'UNKOWN', 'Volusia', 'Wakulla', 'Walton', 'Washington', \n",
    "]"
   ]
  },
  {
   "cell_type": "code",
   "execution_count": 23,
   "metadata": {
    "scrolled": true
   },
   "outputs": [
    {
     "name": "stdout",
     "output_type": "stream",
     "text": [
      "\n",
      "\n",
      "\n",
      "\n",
      "\n",
      "\n",
      "\n",
      "\n",
      "\n",
      "\n",
      "\n",
      "\n",
      "\n",
      "\n",
      "\n",
      "\n",
      "\n",
      "\n",
      "\n",
      "\n",
      "\n",
      "\n",
      "\n",
      "\n",
      "\n",
      "\n",
      "\n",
      "\n",
      "\n",
      "\n",
      "\n",
      "\n",
      "\n",
      "\n",
      "\n",
      "\n",
      "\n",
      "\n",
      "\n",
      "\n",
      "\n",
      "\n",
      "\n",
      "\n",
      "\n",
      "\n",
      "\n",
      "\n",
      "\n",
      "\n",
      "\n",
      "\n",
      "\n",
      "\n",
      "\n",
      "\n",
      "\n",
      "\n",
      "\n",
      "\n",
      "\n",
      "\n",
      "\n",
      "\n",
      "\n",
      "\n",
      "\n",
      "\n",
      "\n",
      "\n",
      "\n",
      "\n",
      "\n",
      "\n",
      "\n",
      "\n",
      "\n",
      "\n",
      "\n",
      "\n",
      "\n",
      "\n",
      "\n",
      "\n",
      "\n",
      "\n",
      "\n"
     ]
    }
   ],
   "source": [
    "df2 = pd.DataFrame(columns=['County','Num Col', 'Source'])\n",
    "text_line_search = '\\w+\\s[\\w,:]+\\s.*\\Z'#'^[\\w+\\s\\D+].+\\Z'\n",
    "digit_search ='^\\d.*\\Z'\n",
    "date_search = '^\\w+\\s\\d.+'\n",
    "#turn into a function\n",
    "page_counter = 0\n",
    "\n",
    "today = datetime.date.today()\n",
    "for files in os.listdir(pdf_output_path):\n",
    "    \n",
    "    pdf_writer = PdfFileWriter()\n",
    "    header = []\n",
    "#     print(files)\n",
    "#     print(f'This is the start of the output for: {files}')\n",
    "    headerset = 0\n",
    "    data_row = []\n",
    "    pdf_file = open(f'{pdf_output_path}/{files}','rb')\n",
    "    pdfreader = PdfFileReader(pdf_file)\n",
    "    num_pages = pdfreader.numPages\n",
    "    if num_pages < 23:\n",
    "        up_limit = num_pages\n",
    "    else:\n",
    "        up_limit = 23\n",
    "    dfset =0\n",
    "    county_added_list = []\n",
    "    for pages in range(3, up_limit):\n",
    "        \n",
    "        datalines = 0\n",
    "        page =  pdfreader.getPage(pages)\n",
    "\n",
    "        if page.extractText().find('Coronavirus: PUI testing by county') > 0 or page.extractText().find('Coronavirus: All persons with tests reported') > 0:\n",
    "            pdf_writer.addPage(page)\n",
    "            page_text = page.extractText()\n",
    "            col_num = 0\n",
    "            index_num = 0\n",
    "            for lines in page_text.split('\\n'):\n",
    "                line_n = len(page_text.split('\\n'))\n",
    "                write_line = 0\n",
    "                if not re.match(text_line_search, lines, flags=0)and not re.match(date_search, lines, flags=0)and datalines == 0 and lines not in county_list and headerset !=1:\n",
    "                    header.append(lines)         \n",
    "                if re.match(date_search, lines, flags=0):\n",
    "                    date = lines[0:12]\n",
    "                if lines in county_list:\n",
    "                    datalines = 1\n",
    "                    data_row = []\n",
    "                    data_row_app_n = 0\n",
    "                    col_num=0\n",
    "                if datalines == 1:\n",
    "                    for names in header:\n",
    "                        if names == 'Awaiting ':\n",
    "                            header[index_num + 1] = 'Awaiting Testing'\n",
    "                            header.pop(index_num)\n",
    "                        if names == 'Percent ':\n",
    "                            header[index_num + 1] = 'Pecent Positive'\n",
    "                            header.pop(index_num) \n",
    "                        index_num += 1\n",
    "                    headerset = 1\n",
    "                    if headerset == 1 and dfset == 0 and len(lines) <30:       \n",
    "                        df = pd.DataFrame(columns=header)\n",
    "                        dfset = 1\n",
    "                    if (len(data_row) + 1) <= len(header) and len(lines) < 20:\n",
    "                        if len(lines) == 0:\n",
    "#                             data_row[col_num] = 0\n",
    "#                             data_row.append('0')\n",
    "                            print('')\n",
    "\n",
    "                        else:\n",
    "                            data_row.append(lines)\n",
    "                            data_row_app_n += 1\n",
    "                            \n",
    "                    if datalines == 1 and len(lines) > 2 and not re.match(date_search, lines, flags=0) and not re.match(text_line_search, lines, flags=0):\n",
    "                        write_line = 1                        \n",
    "                    if len(data_row) == len(header):\n",
    "                        if data_row[0] not in county_added_list:\n",
    "                            data = pd.DataFrame([data_row], columns=header)\n",
    "                            df = pd.concat([df, data])\n",
    "                            county_added_list.append(data_row[0])\n",
    "                try:\n",
    "                    data2 = [data_row[0], data_row_app_n, files]\n",
    "                    data2df = pd.DataFrame([data2], columns=['County','Num Col', 'Source'] )\n",
    "                    df2 = pd.concat([df2, data2df])\n",
    "                except: IndexError\n",
    "                col_num += 1\n",
    "    df.describe()\n",
    "    df.to_csv(f'data/TXT2/Text files of {files}.txt', index=False, sep=\"\\t\")\n",
    "    output = f'Data/Unclean PDF/Unclean Extract from {files} ({today})'\n",
    "    with open(output, 'wb') as output_pdf:\n",
    "        pdf_writer.write(output_pdf)\n",
    "\n",
    "        df2.describe \n",
    "#             print(df)\n",
    "                                    "
   ]
  },
  {
   "cell_type": "markdown",
   "metadata": {},
   "source": [
    "Eventually you need to clean up the formating of the filenames. They are very sloppy coming out of DOH."
   ]
  },
  {
   "cell_type": "code",
   "execution_count": 26,
   "metadata": {},
   "outputs": [],
   "source": [
    "test = df2.head(100)"
   ]
  },
  {
   "cell_type": "markdown",
   "metadata": {},
   "source": [
    "# Data Validation and Cleaning"
   ]
  },
  {
   "cell_type": "code",
   "execution_count": 74,
   "metadata": {},
   "outputs": [
    {
     "name": "stdout",
     "output_type": "stream",
     "text": [
      "<class 'pandas.core.series.Series'>\n"
     ]
    }
   ],
   "source": [
    "print(type(pd.value_counts(df2['Source'])))\n",
    "seri = pd.value_counts(df2['Source'])\n",
    "# print(type(seri))\n",
    "n_reports = pd.DataFrame([seri])\n",
    "\n",
    "n_reports.to_csv(\"Number of Rows For Each County found 7-6-20.csv\", sep='\\t')"
   ]
  },
  {
   "cell_type": "code",
   "execution_count": 77,
   "metadata": {},
   "outputs": [
    {
     "data": {
      "text/plain": [
       "covid-19-data---daily-report-2020-04-08-0954.pdf    509\n",
       "covid-19-data---daily-report-2020-03-28-1015.pdf    505\n",
       "covid-19-data---daily-report-2020-03-27-1819.pdf    505\n",
       "covid-19-data---daily-report-2020-04-05-1648.pdf    503\n",
       "covid-19-data---daily-report-2020-04-08-1702.pdf    503\n",
       "                                                   ... \n",
       "covid-daily-report_compressed_2_2020-05-22.pdf      207\n",
       "covid-daily-report-5.18.20-.pdf                     202\n",
       "covid-daily-report-5.17.20_.pdf                     199\n",
       "covid-daily-report-51620_compressed.pdf             196\n",
       "covid-daily-report-5.15.2020_.pdf                   191\n",
       "Name: Source, Length: 133, dtype: int64"
      ]
     },
     "execution_count": 77,
     "metadata": {},
     "output_type": "execute_result"
    }
   ],
   "source": [
    "seri[0:]"
   ]
  },
  {
   "cell_type": "code",
   "execution_count": null,
   "metadata": {},
   "outputs": [],
   "source": []
  },
  {
   "cell_type": "code",
   "execution_count": 52,
   "metadata": {},
   "outputs": [
    {
     "data": {
      "text/plain": [
       "(133,)"
      ]
     },
     "execution_count": 52,
     "metadata": {},
     "output_type": "execute_result"
    }
   ],
   "source": [
    "n_reports.shape"
   ]
  },
  {
   "cell_type": "code",
   "execution_count": 44,
   "metadata": {},
   "outputs": [
    {
     "data": {
      "text/plain": [
       "count    133.000000\n",
       "mean     435.368421\n",
       "std       88.755322\n",
       "min      191.000000\n",
       "25%      444.000000\n",
       "50%      456.000000\n",
       "75%      503.000000\n",
       "max      509.000000\n",
       "Name: Source, dtype: float64"
      ]
     },
     "execution_count": 44,
     "metadata": {},
     "output_type": "execute_result"
    }
   ],
   "source": [
    "n_reports.groupby().describe()"
   ]
  },
  {
   "cell_type": "code",
   "execution_count": 38,
   "metadata": {},
   "outputs": [
    {
     "data": {
      "text/html": [
       "<div>\n",
       "<style scoped>\n",
       "    .dataframe tbody tr th:only-of-type {\n",
       "        vertical-align: middle;\n",
       "    }\n",
       "\n",
       "    .dataframe tbody tr th {\n",
       "        vertical-align: top;\n",
       "    }\n",
       "\n",
       "    .dataframe thead th {\n",
       "        text-align: right;\n",
       "    }\n",
       "</style>\n",
       "<table border=\"1\" class=\"dataframe\">\n",
       "  <thead>\n",
       "    <tr style=\"text-align: right;\">\n",
       "      <th></th>\n",
       "      <th>County</th>\n",
       "      <th>Num Col</th>\n",
       "      <th>Source</th>\n",
       "    </tr>\n",
       "  </thead>\n",
       "  <tbody>\n",
       "    <tr>\n",
       "      <th>0</th>\n",
       "      <td>Dade</td>\n",
       "      <td>1</td>\n",
       "      <td>06062020state_reports_latest.pdf</td>\n",
       "    </tr>\n",
       "    <tr>\n",
       "      <th>0</th>\n",
       "      <td>Dade</td>\n",
       "      <td>2</td>\n",
       "      <td>06062020state_reports_latest.pdf</td>\n",
       "    </tr>\n",
       "    <tr>\n",
       "      <th>0</th>\n",
       "      <td>Dade</td>\n",
       "      <td>3</td>\n",
       "      <td>06062020state_reports_latest.pdf</td>\n",
       "    </tr>\n",
       "    <tr>\n",
       "      <th>0</th>\n",
       "      <td>Dade</td>\n",
       "      <td>4</td>\n",
       "      <td>06062020state_reports_latest.pdf</td>\n",
       "    </tr>\n",
       "    <tr>\n",
       "      <th>0</th>\n",
       "      <td>Dade</td>\n",
       "      <td>5</td>\n",
       "      <td>06062020state_reports_latest.pdf</td>\n",
       "    </tr>\n",
       "    <tr>\n",
       "      <th>0</th>\n",
       "      <td>Dade</td>\n",
       "      <td>6</td>\n",
       "      <td>06062020state_reports_latest.pdf</td>\n",
       "    </tr>\n",
       "    <tr>\n",
       "      <th>0</th>\n",
       "      <td>Dade</td>\n",
       "      <td>7</td>\n",
       "      <td>06062020state_reports_latest.pdf</td>\n",
       "    </tr>\n",
       "    <tr>\n",
       "      <th>0</th>\n",
       "      <td>Broward</td>\n",
       "      <td>1</td>\n",
       "      <td>06062020state_reports_latest.pdf</td>\n",
       "    </tr>\n",
       "    <tr>\n",
       "      <th>0</th>\n",
       "      <td>Broward</td>\n",
       "      <td>2</td>\n",
       "      <td>06062020state_reports_latest.pdf</td>\n",
       "    </tr>\n",
       "    <tr>\n",
       "      <th>0</th>\n",
       "      <td>Broward</td>\n",
       "      <td>3</td>\n",
       "      <td>06062020state_reports_latest.pdf</td>\n",
       "    </tr>\n",
       "    <tr>\n",
       "      <th>0</th>\n",
       "      <td>Broward</td>\n",
       "      <td>4</td>\n",
       "      <td>06062020state_reports_latest.pdf</td>\n",
       "    </tr>\n",
       "    <tr>\n",
       "      <th>0</th>\n",
       "      <td>Broward</td>\n",
       "      <td>5</td>\n",
       "      <td>06062020state_reports_latest.pdf</td>\n",
       "    </tr>\n",
       "    <tr>\n",
       "      <th>0</th>\n",
       "      <td>Broward</td>\n",
       "      <td>6</td>\n",
       "      <td>06062020state_reports_latest.pdf</td>\n",
       "    </tr>\n",
       "    <tr>\n",
       "      <th>0</th>\n",
       "      <td>Broward</td>\n",
       "      <td>7</td>\n",
       "      <td>06062020state_reports_latest.pdf</td>\n",
       "    </tr>\n",
       "    <tr>\n",
       "      <th>0</th>\n",
       "      <td>Palm Beach</td>\n",
       "      <td>1</td>\n",
       "      <td>06062020state_reports_latest.pdf</td>\n",
       "    </tr>\n",
       "    <tr>\n",
       "      <th>0</th>\n",
       "      <td>Palm Beach</td>\n",
       "      <td>2</td>\n",
       "      <td>06062020state_reports_latest.pdf</td>\n",
       "    </tr>\n",
       "    <tr>\n",
       "      <th>0</th>\n",
       "      <td>Palm Beach</td>\n",
       "      <td>3</td>\n",
       "      <td>06062020state_reports_latest.pdf</td>\n",
       "    </tr>\n",
       "    <tr>\n",
       "      <th>0</th>\n",
       "      <td>Palm Beach</td>\n",
       "      <td>4</td>\n",
       "      <td>06062020state_reports_latest.pdf</td>\n",
       "    </tr>\n",
       "    <tr>\n",
       "      <th>0</th>\n",
       "      <td>Palm Beach</td>\n",
       "      <td>5</td>\n",
       "      <td>06062020state_reports_latest.pdf</td>\n",
       "    </tr>\n",
       "    <tr>\n",
       "      <th>0</th>\n",
       "      <td>Palm Beach</td>\n",
       "      <td>6</td>\n",
       "      <td>06062020state_reports_latest.pdf</td>\n",
       "    </tr>\n",
       "    <tr>\n",
       "      <th>0</th>\n",
       "      <td>Palm Beach</td>\n",
       "      <td>7</td>\n",
       "      <td>06062020state_reports_latest.pdf</td>\n",
       "    </tr>\n",
       "    <tr>\n",
       "      <th>0</th>\n",
       "      <td>Hillsborough</td>\n",
       "      <td>1</td>\n",
       "      <td>06062020state_reports_latest.pdf</td>\n",
       "    </tr>\n",
       "    <tr>\n",
       "      <th>0</th>\n",
       "      <td>Hillsborough</td>\n",
       "      <td>2</td>\n",
       "      <td>06062020state_reports_latest.pdf</td>\n",
       "    </tr>\n",
       "    <tr>\n",
       "      <th>0</th>\n",
       "      <td>Hillsborough</td>\n",
       "      <td>3</td>\n",
       "      <td>06062020state_reports_latest.pdf</td>\n",
       "    </tr>\n",
       "    <tr>\n",
       "      <th>0</th>\n",
       "      <td>Hillsborough</td>\n",
       "      <td>4</td>\n",
       "      <td>06062020state_reports_latest.pdf</td>\n",
       "    </tr>\n",
       "    <tr>\n",
       "      <th>0</th>\n",
       "      <td>Hillsborough</td>\n",
       "      <td>5</td>\n",
       "      <td>06062020state_reports_latest.pdf</td>\n",
       "    </tr>\n",
       "    <tr>\n",
       "      <th>0</th>\n",
       "      <td>Hillsborough</td>\n",
       "      <td>6</td>\n",
       "      <td>06062020state_reports_latest.pdf</td>\n",
       "    </tr>\n",
       "    <tr>\n",
       "      <th>0</th>\n",
       "      <td>Hillsborough</td>\n",
       "      <td>7</td>\n",
       "      <td>06062020state_reports_latest.pdf</td>\n",
       "    </tr>\n",
       "    <tr>\n",
       "      <th>0</th>\n",
       "      <td>Orange</td>\n",
       "      <td>1</td>\n",
       "      <td>06062020state_reports_latest.pdf</td>\n",
       "    </tr>\n",
       "    <tr>\n",
       "      <th>0</th>\n",
       "      <td>Orange</td>\n",
       "      <td>2</td>\n",
       "      <td>06062020state_reports_latest.pdf</td>\n",
       "    </tr>\n",
       "    <tr>\n",
       "      <th>0</th>\n",
       "      <td>Orange</td>\n",
       "      <td>3</td>\n",
       "      <td>06062020state_reports_latest.pdf</td>\n",
       "    </tr>\n",
       "    <tr>\n",
       "      <th>0</th>\n",
       "      <td>Orange</td>\n",
       "      <td>4</td>\n",
       "      <td>06062020state_reports_latest.pdf</td>\n",
       "    </tr>\n",
       "    <tr>\n",
       "      <th>0</th>\n",
       "      <td>Orange</td>\n",
       "      <td>5</td>\n",
       "      <td>06062020state_reports_latest.pdf</td>\n",
       "    </tr>\n",
       "    <tr>\n",
       "      <th>0</th>\n",
       "      <td>Orange</td>\n",
       "      <td>6</td>\n",
       "      <td>06062020state_reports_latest.pdf</td>\n",
       "    </tr>\n",
       "    <tr>\n",
       "      <th>0</th>\n",
       "      <td>Orange</td>\n",
       "      <td>7</td>\n",
       "      <td>06062020state_reports_latest.pdf</td>\n",
       "    </tr>\n",
       "    <tr>\n",
       "      <th>0</th>\n",
       "      <td>Lee</td>\n",
       "      <td>1</td>\n",
       "      <td>06062020state_reports_latest.pdf</td>\n",
       "    </tr>\n",
       "    <tr>\n",
       "      <th>0</th>\n",
       "      <td>Lee</td>\n",
       "      <td>2</td>\n",
       "      <td>06062020state_reports_latest.pdf</td>\n",
       "    </tr>\n",
       "    <tr>\n",
       "      <th>0</th>\n",
       "      <td>Lee</td>\n",
       "      <td>3</td>\n",
       "      <td>06062020state_reports_latest.pdf</td>\n",
       "    </tr>\n",
       "    <tr>\n",
       "      <th>0</th>\n",
       "      <td>Lee</td>\n",
       "      <td>4</td>\n",
       "      <td>06062020state_reports_latest.pdf</td>\n",
       "    </tr>\n",
       "    <tr>\n",
       "      <th>0</th>\n",
       "      <td>Lee</td>\n",
       "      <td>5</td>\n",
       "      <td>06062020state_reports_latest.pdf</td>\n",
       "    </tr>\n",
       "    <tr>\n",
       "      <th>0</th>\n",
       "      <td>Lee</td>\n",
       "      <td>6</td>\n",
       "      <td>06062020state_reports_latest.pdf</td>\n",
       "    </tr>\n",
       "    <tr>\n",
       "      <th>0</th>\n",
       "      <td>Lee</td>\n",
       "      <td>7</td>\n",
       "      <td>06062020state_reports_latest.pdf</td>\n",
       "    </tr>\n",
       "    <tr>\n",
       "      <th>0</th>\n",
       "      <td>Collier</td>\n",
       "      <td>1</td>\n",
       "      <td>06062020state_reports_latest.pdf</td>\n",
       "    </tr>\n",
       "    <tr>\n",
       "      <th>0</th>\n",
       "      <td>Collier</td>\n",
       "      <td>2</td>\n",
       "      <td>06062020state_reports_latest.pdf</td>\n",
       "    </tr>\n",
       "    <tr>\n",
       "      <th>0</th>\n",
       "      <td>Collier</td>\n",
       "      <td>3</td>\n",
       "      <td>06062020state_reports_latest.pdf</td>\n",
       "    </tr>\n",
       "    <tr>\n",
       "      <th>0</th>\n",
       "      <td>Collier</td>\n",
       "      <td>4</td>\n",
       "      <td>06062020state_reports_latest.pdf</td>\n",
       "    </tr>\n",
       "    <tr>\n",
       "      <th>0</th>\n",
       "      <td>Collier</td>\n",
       "      <td>5</td>\n",
       "      <td>06062020state_reports_latest.pdf</td>\n",
       "    </tr>\n",
       "    <tr>\n",
       "      <th>0</th>\n",
       "      <td>Collier</td>\n",
       "      <td>6</td>\n",
       "      <td>06062020state_reports_latest.pdf</td>\n",
       "    </tr>\n",
       "    <tr>\n",
       "      <th>0</th>\n",
       "      <td>Collier</td>\n",
       "      <td>7</td>\n",
       "      <td>06062020state_reports_latest.pdf</td>\n",
       "    </tr>\n",
       "  </tbody>\n",
       "</table>\n",
       "</div>"
      ],
      "text/plain": [
       "         County Num Col                            Source\n",
       "0          Dade       1  06062020state_reports_latest.pdf\n",
       "0          Dade       2  06062020state_reports_latest.pdf\n",
       "0          Dade       3  06062020state_reports_latest.pdf\n",
       "0          Dade       4  06062020state_reports_latest.pdf\n",
       "0          Dade       5  06062020state_reports_latest.pdf\n",
       "0          Dade       6  06062020state_reports_latest.pdf\n",
       "0          Dade       7  06062020state_reports_latest.pdf\n",
       "0       Broward       1  06062020state_reports_latest.pdf\n",
       "0       Broward       2  06062020state_reports_latest.pdf\n",
       "0       Broward       3  06062020state_reports_latest.pdf\n",
       "0       Broward       4  06062020state_reports_latest.pdf\n",
       "0       Broward       5  06062020state_reports_latest.pdf\n",
       "0       Broward       6  06062020state_reports_latest.pdf\n",
       "0       Broward       7  06062020state_reports_latest.pdf\n",
       "0    Palm Beach       1  06062020state_reports_latest.pdf\n",
       "0    Palm Beach       2  06062020state_reports_latest.pdf\n",
       "0    Palm Beach       3  06062020state_reports_latest.pdf\n",
       "0    Palm Beach       4  06062020state_reports_latest.pdf\n",
       "0    Palm Beach       5  06062020state_reports_latest.pdf\n",
       "0    Palm Beach       6  06062020state_reports_latest.pdf\n",
       "0    Palm Beach       7  06062020state_reports_latest.pdf\n",
       "0  Hillsborough       1  06062020state_reports_latest.pdf\n",
       "0  Hillsborough       2  06062020state_reports_latest.pdf\n",
       "0  Hillsborough       3  06062020state_reports_latest.pdf\n",
       "0  Hillsborough       4  06062020state_reports_latest.pdf\n",
       "0  Hillsborough       5  06062020state_reports_latest.pdf\n",
       "0  Hillsborough       6  06062020state_reports_latest.pdf\n",
       "0  Hillsborough       7  06062020state_reports_latest.pdf\n",
       "0        Orange       1  06062020state_reports_latest.pdf\n",
       "0        Orange       2  06062020state_reports_latest.pdf\n",
       "0        Orange       3  06062020state_reports_latest.pdf\n",
       "0        Orange       4  06062020state_reports_latest.pdf\n",
       "0        Orange       5  06062020state_reports_latest.pdf\n",
       "0        Orange       6  06062020state_reports_latest.pdf\n",
       "0        Orange       7  06062020state_reports_latest.pdf\n",
       "0           Lee       1  06062020state_reports_latest.pdf\n",
       "0           Lee       2  06062020state_reports_latest.pdf\n",
       "0           Lee       3  06062020state_reports_latest.pdf\n",
       "0           Lee       4  06062020state_reports_latest.pdf\n",
       "0           Lee       5  06062020state_reports_latest.pdf\n",
       "0           Lee       6  06062020state_reports_latest.pdf\n",
       "0           Lee       7  06062020state_reports_latest.pdf\n",
       "0       Collier       1  06062020state_reports_latest.pdf\n",
       "0       Collier       2  06062020state_reports_latest.pdf\n",
       "0       Collier       3  06062020state_reports_latest.pdf\n",
       "0       Collier       4  06062020state_reports_latest.pdf\n",
       "0       Collier       5  06062020state_reports_latest.pdf\n",
       "0       Collier       6  06062020state_reports_latest.pdf\n",
       "0       Collier       7  06062020state_reports_latest.pdf"
      ]
     },
     "execution_count": 38,
     "metadata": {},
     "output_type": "execute_result"
    }
   ],
   "source": [
    "test2.head(7)"
   ]
  },
  {
   "cell_type": "code",
   "execution_count": 62,
   "metadata": {},
   "outputs": [
    {
     "name": "stdout",
     "output_type": "stream",
     "text": [
      "r'^(\\d{8})'\n",
      "06062020\n",
      "r'\\w'\n",
      "06062020\n",
      "06-06-2020\n"
     ]
    }
   ],
   "source": [
    "files_t = '06062020state_reports_latest.pdf'\n",
    "date_format = [\"r'^(\\d{8})'\",\"r'^([\\d_]+)\\w'\"]\n",
    "for date_types in date_format:\n",
    "    print(date_types)\n",
    "    output = re.findall(r'^(\\d{8})', files_t, flags=0)[0]\n",
    "    print(output)\n",
    "#     report_date = f'{output[0]}{output[1]}-{output[2]}{output[3]}-{output[4]}{output[5]}{output[6]}{output[7]}'\n",
    "print(report_date)\n",
    "# print(report_date)\n",
    "# if bool(re.search(r'^\\d{8}',test, flags=0)) == True:\n",
    "#     print('FUCK YEAR FUCKERS!!!!')"
   ]
  },
  {
   "cell_type": "code",
   "execution_count": 19,
   "metadata": {},
   "outputs": [],
   "source": []
  },
  {
   "cell_type": "code",
   "execution_count": 21,
   "metadata": {},
   "outputs": [
    {
     "name": "stdout",
     "output_type": "stream",
     "text": [
      "['Franklin', 7, 'state_reports_latest_6_12_2020.pdf']\n"
     ]
    }
   ],
   "source": [
    "print(data2)"
   ]
  },
  {
   "cell_type": "code",
   "execution_count": 22,
   "metadata": {},
   "outputs": [],
   "source": [
    "test = pd.DataFrame([data2], columns=['County','Num Col', 'Source'] )"
   ]
  },
  {
   "cell_type": "markdown",
   "metadata": {},
   "source": [
    "## Extracting a page range from the PDFs"
   ]
  },
  {
   "cell_type": "markdown",
   "metadata": {},
   "source": [
    "### Steps:\n",
    "- [X] Open PDFs\n",
    "- [ ] Extract the page range 12-25\n",
    "- [ ] Convert that to a word document\n",
    "- [ ] Find the pages that contain the words \"Coronavirus: All persons tested\"\n",
    "- [ ] Extract just those two pages from the Word Document or the \n"
   ]
  },
  {
   "cell_type": "code",
   "execution_count": null,
   "metadata": {},
   "outputs": [],
   "source": [
    "print(os.listdir(pdf_output_path))"
   ]
  },
  {
   "cell_type": "code",
   "execution_count": null,
   "metadata": {},
   "outputs": [],
   "source": [
    "\n",
    "def ExtractPDF(input_path):\n",
    "    import datetime\n",
    "    today = datetime.date.today()\n",
    "    pdf_writer = PdfFileWriter()\n",
    "    \n",
    "    for files in os.listdir(input_path):\n",
    "        pdf_file = open(f'{input_path}/{files}','rb')\n",
    "        print(files)\n",
    "        print(pdf_file)\n",
    "        \n",
    "        print(f'This is the filename: {files}')\n",
    "        pdfreader = PdfFileReader(pdf_file)\n",
    "        num_pages = pdfreader.numPages\n",
    "        for pages in range(12,26):\n",
    "            page = pdfreader.getPage(pages)\n",
    "#             print(page)\n",
    "            pdf_writer.addPage(page)\n",
    "        output = f'Data/Unclean PDF/Unclean Extract from {files} ({today})'\n",
    "        with open(output, 'wb') as output_pdf:\n",
    "            pdf_writer.write(output_pdf)\n",
    "        break\n",
    "ExtractPDF(pdf_output_path)"
   ]
  },
  {
   "cell_type": "code",
   "execution_count": null,
   "metadata": {},
   "outputs": [],
   "source": [
    "driver.close()"
   ]
  },
  {
   "cell_type": "code",
   "execution_count": null,
   "metadata": {},
   "outputs": [],
   "source": [
    "os.listdir(cwd)"
   ]
  },
  {
   "cell_type": "code",
   "execution_count": null,
   "metadata": {},
   "outputs": [],
   "source": [
    "print(cwd)\n",
    "os.chdir('Data/Unclean PDF')\n"
   ]
  },
  {
   "cell_type": "code",
   "execution_count": null,
   "metadata": {},
   "outputs": [],
   "source": []
  }
 ],
 "metadata": {
  "kernelspec": {
   "display_name": "Python 3",
   "language": "python",
   "name": "python3"
  },
  "language_info": {
   "codemirror_mode": {
    "name": "ipython",
    "version": 3
   },
   "file_extension": ".py",
   "mimetype": "text/x-python",
   "name": "python",
   "nbconvert_exporter": "python",
   "pygments_lexer": "ipython3",
   "version": "3.7.6"
  }
 },
 "nbformat": 4,
 "nbformat_minor": 1
}
