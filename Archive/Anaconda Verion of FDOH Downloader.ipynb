{
 "cells": [
  {
   "cell_type": "markdown",
   "metadata": {
    "collapsed": true
   },
   "source": [
    "# Downloading COVID Data From FloridaDisaster.ORG"
   ]
  },
  {
   "cell_type": "code",
   "execution_count": 18,
   "metadata": {},
   "outputs": [],
   "source": [
    "from selenium import webdriver\n",
    "import os\n",
    "import wget\n",
    "import PyPDF2 as pdf\n",
    "from PyPDF2 import PdfFileReader, PdfFileWriter\n",
    "import time\n",
    "import textract\n",
    "from pathlib import Path\n",
    "import re\n",
    "import pandas as pd"
   ]
  },
  {
   "cell_type": "code",
   "execution_count": 2,
   "metadata": {},
   "outputs": [],
   "source": [
    "chrome_path = r\"chromedriver.exe\""
   ]
  },
  {
   "cell_type": "markdown",
   "metadata": {},
   "source": [
    "## Initializing driver element and finding "
   ]
  },
  {
   "cell_type": "code",
   "execution_count": 3,
   "metadata": {},
   "outputs": [],
   "source": [
    "driver = webdriver.Chrome(chrome_path)\n",
    "driver.get('https://floridadisaster.org/covid19/covid-19-data-reports/')\n",
    "title = driver.title\n",
    "time.sleep(3)\n",
    "result = driver.find_elements_by_xpath(\"//a[@href]\")"
   ]
  },
  {
   "cell_type": "code",
   "execution_count": null,
   "metadata": {},
   "outputs": [],
   "source": [
    "print(result[220].text)"
   ]
  },
  {
   "cell_type": "code",
   "execution_count": null,
   "metadata": {},
   "outputs": [],
   "source": [
    "# type(result)"
   ]
  },
  {
   "cell_type": "code",
   "execution_count": null,
   "metadata": {},
   "outputs": [],
   "source": [
    "# print(len(result))"
   ]
  },
  {
   "cell_type": "code",
   "execution_count": null,
   "metadata": {},
   "outputs": [],
   "source": [
    "print(result)"
   ]
  },
  {
   "cell_type": "code",
   "execution_count": 22,
   "metadata": {},
   "outputs": [],
   "source": [
    "cwd = os.getcwd()"
   ]
  },
  {
   "cell_type": "code",
   "execution_count": null,
   "metadata": {},
   "outputs": [],
   "source": []
  },
  {
   "cell_type": "code",
   "execution_count": 23,
   "metadata": {},
   "outputs": [],
   "source": [
    "pdf_output_path = Path(f'{cwd}/Data/PDF')"
   ]
  },
  {
   "cell_type": "code",
   "execution_count": 24,
   "metadata": {},
   "outputs": [
    {
     "name": "stdout",
     "output_type": "stream",
     "text": [
      "C:\\Users\\chacr\\OneDrive\\Documents\\Coding\\Python\\USF\\COVID-19 Project\\Data\\PDF\n"
     ]
    }
   ],
   "source": [
    "print(pdf_output_path)"
   ]
  },
  {
   "cell_type": "markdown",
   "metadata": {},
   "source": [
    "## Downloads the PDF Files from the FDEM Website"
   ]
  },
  {
   "cell_type": "code",
   "execution_count": null,
   "metadata": {},
   "outputs": [],
   "source": [
    "link_counter = 0\n",
    "len_result = len(result)\n",
    "for links in result:\n",
    "    if links.text.find('Data Report') > 0:\n",
    "        link_url = links.get_attribute('href')\n",
    "        filename = wget.filename_from_url(link_url)\n",
    "        if not os.path.exists(pdf_output_path +'/' + filename):\n",
    "            wget.download(link_url, out = pdf_output_path)\n",
    "        link_counter +=1\n",
    "        print (f'{round(link_counter/len_result,3)}% Complete',end='\\r')\n",
    "\n",
    " "
   ]
  },
  {
   "cell_type": "markdown",
   "metadata": {},
   "source": [
    "### Attempting to extract PDF text (none found 7-4-20)"
   ]
  },
  {
   "cell_type": "code",
   "execution_count": 35,
   "metadata": {},
   "outputs": [
    {
     "name": "stdout",
     "output_type": "stream",
     "text": [
      "<_io.BufferedReader name='C:\\\\Users\\\\chacr\\\\OneDrive\\\\Documents\\\\Coding\\\\Python\\\\USF\\\\COVID-19 Project\\\\Data\\\\PDF/covid-19-data---daily-report-2020-03-19-0954.pdf'>\n"
     ]
    }
   ],
   "source": [
    "print(pdf_file)"
   ]
  },
  {
   "cell_type": "code",
   "execution_count": 140,
   "metadata": {},
   "outputs": [],
   "source": [
    "county_list = ['Alachua', 'Baker', 'Bay', 'Bradford', 'Brevard', 'Broward', 'Calhoun', 'Charlotte', 'Citrus', 'Clay', 'Collier', 'Columbia', 'Dade', 'Desoto', 'Dixie', 'Duval', 'Escambia', 'Flagler', 'Franklin', 'Gadsden', 'Gilchrist', 'Glades', 'Gulf', 'Hamilton', 'Hardee', 'Hendry', 'Hernando', 'Highlands', 'Hillsborough', 'Holmes', 'Indian River', 'Jackson', 'Jefferson', 'Lafayette', 'Lake', 'Lee', 'Leon', 'Levy', 'Liberty', 'Madison', 'Manatee', 'Marion', 'Martin', 'Monroe', 'Nassau', 'Okaloosa', 'Okeechobee', 'Orange', 'Osceola', 'Palm Beach', 'Pasco', 'Pinellas', 'Polk', 'Putnam', 'Santa Rosa', 'Sarasota', 'Seminole', 'St. Johns', 'St. Lucie', 'Sumter', 'Suwannee', 'Taylor', 'Union', 'Unknown', 'UNKOWN', 'Volusia', 'Wakulla', 'Walton', 'Washington', \n",
    "]"
   ]
  },
  {
   "cell_type": "code",
   "execution_count": 48,
   "metadata": {},
   "outputs": [],
   "source": []
  },
  {
   "cell_type": "code",
   "execution_count": 168,
   "metadata": {},
   "outputs": [
    {
     "name": "stdout",
     "output_type": "stream",
     "text": [
      "covid-19-data---daily-report-2020-03-19-0954.pdf\n",
      "Mar 19, 2020\n",
      "Mar 19, 2020\n",
      "state_reports_20200626.pdf\n",
      "['County', 'Awaiting Testing', 'Inconclusive', 'Negative', 'Positive', 'Pecent Positive', 'Total tested']\n",
      "state_reports_20200628.pdf\n",
      "['County', 'Awaiting Testing', 'Inconclusive', 'Negative', 'Positive', 'Pecent Positive', 'Total tested']\n",
      "state_reports_20200629.pdf\n",
      "[]\n",
      "state_reports_20200630.pdf\n",
      "['County', 'Awaiting Testing', 'Inconclusive', 'Negative', 'Positive', 'Pecent Positive', 'Total tested']\n",
      "state_reports_20200701.pdf\n",
      "['County', 'Awaiting Testing', 'Inconclusive', 'Negative', 'Positive', 'Pecent Positive', 'Total tested']\n",
      "state_reports_20200702.pdf\n",
      "['County', 'Awaiting Testing', 'Inconclusive', 'Negative', 'Positive', 'Pecent Positive', 'Total tested']\n",
      "state_reports_20200703.pdf\n",
      "['County', 'Awaiting Testing', 'Inconclusive', 'Negative', 'Positive', 'Pecent Positive', 'Total tested']\n",
      "state_reports_latest_06_27.pdf\n",
      "['County', 'Awaiting Testing', 'Inconclusive', 'Negative', 'Positive', 'Pecent Positive', 'Total tested']\n"
     ]
    }
   ],
   "source": [
    "file_counter = 0\n",
    "text_line_search = '^\\D+\\s\\D+\\s'#'^[\\w+\\s\\D+].+\\Z'\n",
    "digit_search ='^\\d.*\\Z'\n",
    "date_search = '^\\w+\\s\\d.+'\n",
    "#turn into a function\n",
    "page_counter = 0\n",
    "\n",
    "\n",
    "for files in os.listdir(pdf_output_path):\n",
    "    header = []\n",
    "    datalines = 0\n",
    "    print(files)\n",
    "    pdf_file = open(f'{pdf_output_path}/{files}','rb')\n",
    "    pdfreader = PdfFileReader(pdf_file)\n",
    "    num_pages = pdfreader.numPages\n",
    "    try:\n",
    "        for pages in range(3,26):\n",
    "            page =  pdfreader.getPage(pages)   \n",
    "            if page.extractText().find('Coronavirus: PUI testing by county') > 0 or page.extractText().find('Coronavirus: All persons with tests reported') > 0:\n",
    "                page_text = page.extractText()\n",
    "                index_num = 0\n",
    "                data_row = []\n",
    "                for lines in page_text.split('\\n'):\n",
    "                    if re.match(date_search, lines, flags=0):\n",
    "                        date = lines[0:12]\n",
    "                        print(date)\n",
    "                    if lines in county_list:\n",
    "                        datalines = 1\n",
    "                        data_row = []\n",
    "                    if not re.match(text_line_search, lines, flags=0) and not re.match(date_search, lines, flags=0) and datalines == 0:\n",
    "                        header.append(lines)              \n",
    "                    if datalines == 1:\n",
    "                        for names in header:\n",
    "                            if names == 'Awaiting ':\n",
    "                                header[index_num + 1] = \"Awaiting Testing\"\n",
    "                                header.pop(index_num)\n",
    "                                #print(header)\n",
    "                            if names == 'Percent ':\n",
    "                                header[index_num + 1] = 'Pecent Positive'\n",
    "                                header.pop(index_num) \n",
    "                            index_num += 1\n",
    "                        col_num = len(header)\n",
    "                        if not re.match(text_line_search, lines, flags=0) and not re.match(date_search, lines, flags=0) and datalines == 1:\n",
    "                            data_row.append(lines)\n",
    "        print(header)\n",
    "    except: IndexError\n",
    "    file_counter += 1\n",
    "#     if file_counter == 4:\n",
    "#         break\n"
   ]
  },
  {
   "cell_type": "code",
   "execution_count": 156,
   "metadata": {},
   "outputs": [],
   "source": [
    "contents = page.getContents()"
   ]
  },
  {
   "cell_type": "code",
   "execution_count": null,
   "metadata": {},
   "outputs": [],
   "source": [
    "list(contents)"
   ]
  },
  {
   "cell_type": "code",
   "execution_count": null,
   "metadata": {},
   "outputs": [],
   "source": [
    "type(contents[1])"
   ]
  },
  {
   "cell_type": "code",
   "execution_count": 25,
   "metadata": {},
   "outputs": [
    {
     "ename": "NameError",
     "evalue": "name 'pdfreader' is not defined",
     "output_type": "error",
     "traceback": [
      "\u001b[1;31m---------------------------------------------------------------------------\u001b[0m",
      "\u001b[1;31mNameError\u001b[0m                                 Traceback (most recent call last)",
      "\u001b[1;32m<ipython-input-25-90d595a14f13>\u001b[0m in \u001b[0;36m<module>\u001b[1;34m\u001b[0m\n\u001b[1;32m----> 1\u001b[1;33m \u001b[0mobjects\u001b[0m \u001b[1;33m=\u001b[0m \u001b[0mpdfreader\u001b[0m\u001b[1;33m.\u001b[0m\u001b[0mresolvedObjects\u001b[0m\u001b[1;33m\u001b[0m\u001b[1;33m\u001b[0m\u001b[0m\n\u001b[0m",
      "\u001b[1;31mNameError\u001b[0m: name 'pdfreader' is not defined"
     ]
    }
   ],
   "source": [
    "objects = pdfreader.resolvedObjects"
   ]
  },
  {
   "cell_type": "code",
   "execution_count": null,
   "metadata": {},
   "outputs": [],
   "source": [
    "objects"
   ]
  },
  {
   "cell_type": "code",
   "execution_count": null,
   "metadata": {},
   "outputs": [],
   "source": [
    "type(objects)"
   ]
  },
  {
   "cell_type": "code",
   "execution_count": null,
   "metadata": {},
   "outputs": [],
   "source": [
    "objects.keys()"
   ]
  },
  {
   "cell_type": "code",
   "execution_count": null,
   "metadata": {},
   "outputs": [],
   "source": [
    "objects[0, 1]"
   ]
  },
  {
   "cell_type": "code",
   "execution_count": null,
   "metadata": {},
   "outputs": [],
   "source": [
    "objects[0, 1]['/Pages']['/Kids']"
   ]
  },
  {
   "cell_type": "code",
   "execution_count": null,
   "metadata": {},
   "outputs": [],
   "source": [
    "type(objects[0, 1]['/Pages']['/Kids'])"
   ]
  },
  {
   "cell_type": "code",
   "execution_count": null,
   "metadata": {},
   "outputs": [],
   "source": [
    "len(list(umm2[0, 1]['/Pages']['/Kids']))"
   ]
  },
  {
   "cell_type": "code",
   "execution_count": null,
   "metadata": {
    "scrolled": true
   },
   "outputs": [],
   "source": [
    "umm2[0, 1]['/Pages']['/Kids'].writeToStream()"
   ]
  },
  {
   "cell_type": "code",
   "execution_count": null,
   "metadata": {},
   "outputs": [],
   "source": [
    "import tabula"
   ]
  },
  {
   "cell_type": "code",
   "execution_count": null,
   "metadata": {},
   "outputs": [],
   "source": [
    "df = tabula.read_pdf('data/PDF/AAAAA.pdf' ,pages ='all')"
   ]
  },
  {
   "cell_type": "markdown",
   "metadata": {},
   "source": [
    "## Extracting a page range from the PDFs"
   ]
  },
  {
   "cell_type": "markdown",
   "metadata": {},
   "source": [
    "### Steps:\n",
    "- [X] Open PDFs\n",
    "- [ ] Extract the page range 12-25\n",
    "- [ ] Convert that to a word document\n",
    "- [ ] Find the pages that contain the words \"Coronavirus: All persons tested\"\n",
    "- [ ] Extract just those two pages from the Word Document or the \n"
   ]
  },
  {
   "cell_type": "code",
   "execution_count": null,
   "metadata": {},
   "outputs": [],
   "source": [
    "print(os.listdir(pdf_output_path))"
   ]
  },
  {
   "cell_type": "code",
   "execution_count": null,
   "metadata": {},
   "outputs": [],
   "source": [
    "pdf_writer = PdfFileWriter()"
   ]
  },
  {
   "cell_type": "code",
   "execution_count": null,
   "metadata": {},
   "outputs": [],
   "source": [
    "\n",
    "def ExtractPDF(input_path):\n",
    "    import datetime\n",
    "    today = datetime.date.today()\n",
    "    pdf_writer = PdfFileWriter()\n",
    "    \n",
    "    for files in os.listdir(input_path):\n",
    "        pdf_file = open(f'{input_path}/{files}','rb')\n",
    "        print(files)\n",
    "        print(pdf_file)\n",
    "        \n",
    "        print(f'This is the filename: {files}')\n",
    "        pdfreader = PdfFileReader(pdf_file)\n",
    "        num_pages = pdfreader.numPages\n",
    "        for pages in range(12,26):\n",
    "            page = pdfreader.getPage(pages)\n",
    "#             print(page)\n",
    "            pdf_writer.addPage(page)\n",
    "        output = f'Data/Unclean PDF/Unclean Extract from {files} ({today})'\n",
    "        with open(output, 'wb') as output_pdf:\n",
    "            pdf_writer.write(output_pdf)\n",
    "        break\n",
    "ExtractPDF(pdf_output_path)"
   ]
  },
  {
   "cell_type": "code",
   "execution_count": null,
   "metadata": {},
   "outputs": [],
   "source": [
    "driver.close()"
   ]
  },
  {
   "cell_type": "code",
   "execution_count": null,
   "metadata": {},
   "outputs": [],
   "source": [
    "os.listdir(cwd)"
   ]
  },
  {
   "cell_type": "code",
   "execution_count": null,
   "metadata": {},
   "outputs": [],
   "source": [
    "print(cwd)\n",
    "os.chdir('Data/Unclean PDF')\n"
   ]
  },
  {
   "cell_type": "code",
   "execution_count": null,
   "metadata": {},
   "outputs": [],
   "source": []
  }
 ],
 "metadata": {
  "kernelspec": {
   "display_name": "Python 3",
   "language": "python",
   "name": "python3"
  },
  "language_info": {
   "codemirror_mode": {
    "name": "ipython",
    "version": 3
   },
   "file_extension": ".py",
   "mimetype": "text/x-python",
   "name": "python",
   "nbconvert_exporter": "python",
   "pygments_lexer": "ipython3",
   "version": "3.7.6"
  }
 },
 "nbformat": 4,
 "nbformat_minor": 1
}
