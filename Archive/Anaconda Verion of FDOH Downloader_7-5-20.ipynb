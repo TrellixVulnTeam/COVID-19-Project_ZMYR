{
 "cells": [
  {
   "cell_type": "markdown",
   "metadata": {
    "collapsed": true
   },
   "source": [
    "# Downloading COVID Data From FloridaDisaster.ORG"
   ]
  },
  {
   "cell_type": "markdown",
   "metadata": {},
   "source": [
    "### To Do\n",
    "- [ ] Fix the problem where before doh reported 0 as 0 and not missing, I can't use the data\n",
    "- [X] Extract the page range 12-25\n",
    "- [X] Find the pages that contain the words \"Coronavirus: All persons tested\"\n",
    "- [X] Extract just those two pages pdf \n",
    "- [X] Export individual files to txt for storage\n",
    "\n"
   ]
  },
  {
   "cell_type": "code",
   "execution_count": 9,
   "metadata": {},
   "outputs": [],
   "source": [
    "from selenium import webdriver\n",
    "import os\n",
    "import wget\n",
    "import PyPDF2 as pdf\n",
    "from PyPDF2 import PdfFileReader, PdfFileWriter\n",
    "import time\n",
    "import textract\n",
    "from pathlib import Path\n",
    "import re\n",
    "import pandas as pd\n",
    "import datetime"
   ]
  },
  {
   "cell_type": "code",
   "execution_count": 3,
   "metadata": {},
   "outputs": [],
   "source": [
    "chrome_path = r\"chromedriver.exe\""
   ]
  },
  {
   "cell_type": "markdown",
   "metadata": {},
   "source": [
    "## Initializing driver element and finding "
   ]
  },
  {
   "cell_type": "code",
   "execution_count": 4,
   "metadata": {},
   "outputs": [],
   "source": [
    "driver = webdriver.Chrome(chrome_path)\n",
    "driver.get('https://floridadisaster.org/covid19/covid-19-data-reports/')\n",
    "title = driver.title\n",
    "time.sleep(3)\n",
    "result = driver.find_elements_by_xpath(\"//a[@href]\")"
   ]
  },
  {
   "cell_type": "code",
   "execution_count": null,
   "metadata": {},
   "outputs": [],
   "source": [
    "print(result[220].text)"
   ]
  },
  {
   "cell_type": "code",
   "execution_count": null,
   "metadata": {},
   "outputs": [],
   "source": [
    "# type(result)"
   ]
  },
  {
   "cell_type": "code",
   "execution_count": null,
   "metadata": {},
   "outputs": [],
   "source": [
    "# print(len(result))"
   ]
  },
  {
   "cell_type": "code",
   "execution_count": null,
   "metadata": {},
   "outputs": [],
   "source": [
    "print(result)"
   ]
  },
  {
   "cell_type": "code",
   "execution_count": 5,
   "metadata": {},
   "outputs": [],
   "source": [
    "cwd = os.getcwd()"
   ]
  },
  {
   "cell_type": "code",
   "execution_count": 6,
   "metadata": {},
   "outputs": [],
   "source": [
    "pdf_output_path = Path(f'{cwd}/Data/PDF')"
   ]
  },
  {
   "cell_type": "code",
   "execution_count": null,
   "metadata": {},
   "outputs": [],
   "source": [
    "print(pdf_output_path)"
   ]
  },
  {
   "cell_type": "markdown",
   "metadata": {},
   "source": [
    "## Downloads the PDF Files from the FDEM Website"
   ]
  },
  {
   "cell_type": "code",
   "execution_count": 8,
   "metadata": {},
   "outputs": [
    {
     "name": "stdout",
     "output_type": "stream",
     "text": [
      "0.498% Complete\r"
     ]
    }
   ],
   "source": [
    "link_counter = 0\n",
    "len_result = len(result)\n",
    "for links in result:\n",
    "    if links.text.find('Data Report') > 0:\n",
    "        link_url = links.get_attribute('href')\n",
    "        filename = wget.filename_from_url(link_url)\n",
    "        if not os.path.exists(f'{pdf_output_path}/{filename}'):\n",
    "            wget.download(link_url, out = f'{pdf_output_path}')\n",
    "        link_counter +=1\n",
    "        print (f'{round((link_counter * 2)/len_result,3)*100}% Complete',end='\\r')\n",
    "\n",
    " "
   ]
  },
  {
   "cell_type": "markdown",
   "metadata": {},
   "source": [
    "### Extracting PDF text"
   ]
  },
  {
   "cell_type": "code",
   "execution_count": null,
   "metadata": {},
   "outputs": [],
   "source": [
    "print(pdf_file)"
   ]
  },
  {
   "cell_type": "code",
   "execution_count": 10,
   "metadata": {},
   "outputs": [],
   "source": [
    "county_list = ['Alachua', 'Dade','Baker', 'Bay', 'Bradford', 'Brevard', 'Broward', 'Calhoun', 'Charlotte', 'Citrus', 'Clay', 'Collier', 'Columbia', 'Dade', 'Desoto', 'Dixie', 'Duval', 'Escambia', 'Flagler', 'Franklin', 'Gadsden', 'Gilchrist', 'Glades', 'Gulf', 'Hamilton', 'Hardee', 'Hendry', 'Hernando', 'Highlands', 'Hillsborough', 'Holmes', 'Indian River', 'Jackson', 'Jefferson', 'Lafayette', 'Lake', 'Lee', 'Leon', 'Levy', 'Liberty', 'Madison', 'Manatee', 'Marion', 'Martin', 'Monroe', 'Nassau', 'Okaloosa', 'Okeechobee', 'Orange', 'Osceola', 'Palm Beach', 'Pasco', 'Pinellas', 'Polk', 'Putnam', 'Santa Rosa', 'Sarasota', 'Seminole', 'St. Johns', 'St. Lucie', 'Sumter', 'Suwannee', 'Taylor', 'Union', 'Unknown', 'UNKOWN', 'Volusia', 'Wakulla', 'Walton', 'Washington', \n",
    "]"
   ]
  },
  {
   "cell_type": "code",
   "execution_count": 58,
   "metadata": {
    "scrolled": true
   },
   "outputs": [
    {
     "name": "stdout",
     "output_type": "stream",
     "text": [
      "06062020state_reports_latest.pdf\n",
      "\n",
      "06_13_2020state_reports_latest.pdf\n",
      "\n",
      "covid-19-data---daily-report-2020-03-16-1815.pdf\n",
      "covid-19-data---daily-report-2020-03-18-0955.pdf\n",
      "covid-19-data---daily-report-2020-03-19-0954.pdf\n",
      "covid-19-data---daily-report-2020-03-19-1653.pdf\n",
      "covid-19-data---daily-report-2020-03-20-1740-modified.pdf\n",
      "covid-19-data---daily-report-2020-03-21-1008.pdf\n",
      "covid-19-data---daily-report-2020-03-21-1731.pdf\n",
      "covid-19-data---daily-report-2020-03-22-0951.pdf\n",
      "covid-19-data---daily-report-2020-03-22-1828.pdf\n",
      "covid-19-data---daily-report-2020-03-23-0949.pdf\n",
      "covid-19-data---daily-report-2020-03-23-1709.pdf\n",
      "covid-19-data---daily-report-2020-03-24-1012.pdf\n",
      "covid-19-data---daily-report-2020-03-24-1657.pdf\n",
      "covid-19-data---daily-report-2020-03-25-1007.pdf\n",
      "\n",
      "covid-19-data---daily-report-2020-03-25-1745.pdf\n",
      "covid-19-data---daily-report-2020-03-26-1107.pdf\n",
      "covid-19-data---daily-report-2020-03-26-1659.pdf\n",
      "covid-19-data---daily-report-2020-03-27-1026.pdf\n",
      "covid-19-data---daily-report-2020-03-27-1819.pdf\n",
      "covid-19-data---daily-report-2020-03-28-1015.pdf\n",
      "covid-19-data---daily-report-2020-03-28-1747.pdf\n",
      "covid-19-data---daily-report-2020-03-29-1002.pdf\n",
      "covid-19-data---daily-report-2020-03-29-1732.pdf\n",
      "covid-19-data---daily-report-2020-03-30-1013.pdf\n",
      "covid-19-data---daily-report-2020-03-30-1733.pdf\n",
      "covid-19-data---daily-report-2020-03-31-1055.pdf\n",
      "covid-19-data---daily-report-2020-03-31-1742.pdf\n",
      "covid-19-data---daily-report-2020-04-01-1037.pdf\n",
      "covid-19-data---daily-report-2020-04-02-1021.pdf\n",
      "covid-19-data---daily-report-2020-04-02-1715.pdf\n",
      "covid-19-data---daily-report-2020-04-03-0955.pdf\n",
      "covid-19-data---daily-report-2020-04-03-1725.pdf\n",
      "covid-19-data---daily-report-2020-04-04-0949.pdf\n",
      "covid-19-data---daily-report-2020-04-04-1653.pdf\n",
      "covid-19-data---daily-report-2020-04-05-0945.pdf\n",
      "covid-19-data---daily-report-2020-04-05-1648.pdf\n",
      "covid-19-data---daily-report-2020-04-06-0943.pdf\n",
      "covid-19-data---daily-report-2020-04-06-1657.pdf\n",
      "covid-19-data---daily-report-2020-04-07-1022.pdf\n",
      "covid-19-data---daily-report-2020-04-07-1643.pdf\n",
      "covid-19-data---daily-report-2020-04-08-0954.pdf\n",
      "covid-19-data---daily-report-2020-04-08-1702.pdf\n",
      "covid-19-data---daily-report-2020-04-09-1004.pdf\n",
      "covid-19-data---daily-report-2020-04-09-1654.pdf\n",
      "covid-19-data---daily-report-2020-04-10-0956-modified.pdf\n",
      "covid-19-data---daily-report-2020-04-10-1712.pdf\n",
      "covid-19-data---daily-report-2020-04-11-1002.pdf\n",
      "covid-19-data---daily-report-2020-04-11-1725.pdf\n",
      "\n",
      "covid-19-data---daily-report-2020-04-12-1001.pdf\n",
      "\n",
      "covid-19-data---daily-report-2020-04-12-1637.pdf\n",
      "\n",
      "covid-19-data---daily-report-2020-04-13-0936.pdf\n",
      "\n",
      "covid-19-data---daily-report-2020-04-13-1650.pdf\n",
      "\n",
      "covid-19-data---daily-report-2020-04-14-0943.pdf\n",
      "\n",
      "covid-19-data---daily-report-2020-04-14-1723.pdf\n",
      "\n",
      "covid-19-data---daily-report-2020-04-15-0938.pdf\n",
      "\n",
      "covid-19-data---daily-report-2020-04-15-1700.pdf\n",
      "\n",
      "covid-19-data---daily-report-2020-04-16-0942.pdf\n",
      "\n",
      "covid-19-data---daily-report-2020-04-16-1638.pdf\n",
      "\n",
      "covid-19-data---daily-report-2020-04-17-0943.pdf\n",
      "\n",
      "covid-19-data---daily-report-2020-04-17-1639.pdf\n",
      "\n",
      "covid-19-data---daily-report-2020-04-18-0941.pdf\n",
      "\n",
      "covid-19-data---daily-report-2020-04-18-1639.pdf\n",
      "\n",
      "covid-19-data---daily-report-2020-04-19-0937.pdf\n",
      "\n",
      "covid-19-data---daily-report-2020-04-19-1644.pdf\n",
      "\n",
      "covid-19-data---daily-report-2020-04-20-0938.pdf\n",
      "\n",
      "covid-19-data---daily-report-2020-04-20-1640.pdf\n",
      "\n",
      "covid-19-data---daily-report-2020-04-21-0949.pdf\n",
      "\n",
      "covid-19-data---daily-report-2020-04-21-1637.pdf\n",
      "\n",
      "covid-19-data---daily-report-2020-04-22-0959.pdf\n",
      "\n",
      "covid-19-data---daily-report-2020-04-22-1637.pdf\n",
      "\n",
      "covid-19-data---daily-report-2020-04-23-0942.pdf\n",
      "\n",
      "covid-19-data---daily-report-2020-04-23-1638.pdf\n",
      "\n",
      "covid-19-data---daily-report-2020-04-24-0950.pdf\n",
      "\n",
      "covid-19-data---daily-report-2020-04-24-1640.pdf\n",
      "\n",
      "covid-19-data---daily-report-2020-04-25-0956.pdf\n",
      "\n",
      "covid-19-data---daily-report-2020-04-26-0939.pdf\n",
      "\n",
      "covid-19-data---daily-report-2020-04-27-0949.pdf\n",
      "\n",
      "covid-19-data---daily-report-2020-04-28-1004.pdf\n",
      "\n",
      "covid-19-data---daily-report-2020-04-29-0955.pdf\n",
      "\n",
      "covid-19-data---daily-report-2020-04-30-0953.pdf\n",
      "\n",
      "covid-19-data---daily-report-2020-05-01-0941.pdf\n",
      "\n",
      "covid-19-data---daily-report-2020-05-02-0953.pdf\n",
      "\n",
      "covid-19-data---daily-report-2020-05-03-1007.pdf\n",
      "\n",
      "covid-19-data---daily-report-2020-05-04-0943.pdf\n",
      "\n",
      "covid-19-data---daily-report-2020-05-05-0941.pdf\n",
      "\n",
      "covid-19-data---daily-report-2020-05-06-0938.pdf\n",
      "\n",
      "covid-19-data---daily-report-2020-05-07-0956.pdf\n",
      "\n",
      "covid-19-data---daily-report-2020-05-08-0943.pdf\n",
      "\n",
      "covid-19-data---daily-report-2020-05-09-10am.pdf\n",
      "\n",
      "covid-19-data---daily-report-2020-05-10-10am.pdf\n",
      "\n",
      "covid-19-data---daily-report-2020-05-11-10am.pdf\n",
      "\n",
      "covid-19-data---daily-report-2020-05-12-10am.pdf\n",
      "\n",
      "covid-19-data---daily-report-2020-05-13-10am.pdf\n",
      "\n",
      "covid-19-data---daily-report-2020-05-14-10am.pdf\n",
      "\n",
      "covid-19-data---daily-report-2020-05-23-10am.pdf\n",
      "covid-19-data---daily-report-2020-05-24-0941.pdf\n",
      "\n",
      "covid-19-data---daily-report-2020-05-25-0947.pdf\n",
      "covid-daily-report-5.15.2020_.pdf\n",
      "\n",
      "covid-daily-report-5.17.20_.pdf\n",
      "\n",
      "covid-daily-report-5.18.20-.pdf\n",
      "\n",
      "covid-daily-report-5.26.20-compressed.pdf\n",
      "\n",
      "covid-daily-report-5.27.20-compressed.pdf\n",
      "\n",
      "covid-daily-report-5.28.20-compressed.pdf\n",
      "\n",
      "covid-daily-report-5.29.20_compressed.pdf\n",
      "\n",
      "covid-daily-report-5.30.20_compressed.pdf\n",
      "\n",
      "covid-daily-report-5.31.20_compressed.pdf\n",
      "\n",
      "covid-daily-report-51620_compressed.pdf\n",
      "\n",
      "covid-daily-report-6.1.20_comprimido.pdf\n",
      "\n",
      "covid-daily-report-6.2.20_comprimido.pdf\n",
      "\n",
      "covid-daily-report_5.19.20_.pdf\n",
      "\n",
      "covid-daily-report_compressed-2020-05-20.pdf\n",
      "\n",
      "covid-daily-report_compressed_1_2020-05-21.pdf\n",
      "\n",
      "covid-daily-report_compressed_2_2020-05-22.pdf\n",
      "\n",
      "state_reports_20200603.pdf\n",
      "\n",
      "state_reports_20200604.pdf\n",
      "state_reports_20200605.pdf\n",
      "\n",
      "state_reports_20200607.pdf\n",
      "\n",
      "state_reports_20200608.pdf\n",
      "\n",
      "state_reports_20200609.pdf\n",
      "\n",
      "state_reports_20200610.pdf\n",
      "state_reports_20200611.pdf\n",
      "\n",
      "state_reports_20200614.pdf\n",
      "\n",
      "state_reports_20200615.pdf\n",
      "\n",
      "state_reports_20200616.pdf\n",
      "\n",
      "state_reports_20200617.pdf\n",
      "\n",
      "state_reports_20200618.pdf\n",
      "\n",
      "state_reports_20200619.pdf\n",
      "\n",
      "state_reports_20200621.pdf\n",
      "\n",
      "state_reports_20200622.pdf\n",
      "state_reports_20200623.pdf\n",
      "state_reports_20200624.pdf\n",
      "state_reports_20200625.pdf\n",
      "state_reports_20200626.pdf\n",
      "state_reports_20200628.pdf\n",
      "\n",
      "state_reports_20200629.pdf\n",
      "state_reports_20200630.pdf\n",
      "state_reports_20200701.pdf\n",
      "state_reports_20200702.pdf\n",
      "\n",
      "state_reports_20200703.pdf\n",
      "\n",
      "state_reports_20200705.pdf\n",
      "\n",
      "state_reports_latest_06_20.pdf\n",
      "\n",
      "state_reports_latest_06_27.pdf\n",
      "state_reports_latest_07_04.pdf\n",
      "\n",
      "state_reports_latest_6_12_2020.pdf\n",
      "\n"
     ]
    }
   ],
   "source": [
    "\n",
    "text_line_search = '\\w+\\s[\\w,:]+\\s.*\\Z'#'^[\\w+\\s\\D+].+\\Z'\n",
    "digit_search ='^\\d.*\\Z'\n",
    "date_search = '^\\w+\\s\\d.+'\n",
    "#turn into a function\n",
    "page_counter = 0\n",
    "\n",
    "today = datetime.date.today()\n",
    "for files in os.listdir(pdf_output_path):\n",
    "    \n",
    "    pdf_writer = PdfFileWriter()\n",
    "    header = []\n",
    "    print(files)\n",
    "#     print(f'This is the start of the output for: {files}')\n",
    "    headerset = 0\n",
    "    data_row = []\n",
    "    pdf_file = open(f'{pdf_output_path}/{files}','rb')\n",
    "    pdfreader = PdfFileReader(pdf_file)\n",
    "    num_pages = pdfreader.numPages\n",
    "    if num_pages < 23:\n",
    "        up_limit = num_pages\n",
    "    else:\n",
    "        up_limit = 23\n",
    "    dfset =0\n",
    "    county_added_list = []\n",
    "    for pages in range(3, up_limit):\n",
    "        \n",
    "        datalines = 0\n",
    "        page =  pdfreader.getPage(pages)\n",
    "\n",
    "        if page.extractText().find('Coronavirus: PUI testing by county') > 0 or page.extractText().find('Coronavirus: All persons with tests reported') > 0:\n",
    "            pdf_writer.addPage(page)\n",
    "            page_text = page.extractText()\n",
    "            col_num = 0\n",
    "            index_num = 0\n",
    "            for lines in page_text.split('\\n'):\n",
    "                line_n = len(page_text.split('\\n'))\n",
    "                write_line = 0\n",
    "                if not re.match(text_line_search, lines, flags=0)and not re.match(date_search, lines, flags=0)and datalines == 0 and lines not in county_list and headerset !=1:\n",
    "                    header.append(lines)         \n",
    "                if re.match(date_search, lines, flags=0):\n",
    "                    date = lines[0:12]\n",
    "                if lines in county_list:\n",
    "                    datalines = 1\n",
    "                    data_row = []\n",
    "                    col_num=0\n",
    "                if datalines == 1:\n",
    "                    for names in header:\n",
    "                        if names == 'Awaiting ':\n",
    "                            header[index_num + 1] = 'Awaiting Testing'\n",
    "                            header.pop(index_num)\n",
    "                        if names == 'Percent ':\n",
    "                            header[index_num + 1] = 'Pecent Positive'\n",
    "                            header.pop(index_num) \n",
    "                        index_num += 1\n",
    "                    headerset = 1\n",
    "                    if headerset == 1 and dfset == 0 and len(lines) <30:       \n",
    "                        df = pd.DataFrame(columns=header)\n",
    "                        dfset = 1\n",
    "                    if (len(data_row) + 1) <= len(header) and len(lines) < 20:\n",
    "                        if len(lines) == 0:\n",
    "#                             data_row[col_num] = 0\n",
    "#                             data_row.append('0')\n",
    "                            print('')\n",
    "\n",
    "                        else:\n",
    "                            data_row.append(lines)\n",
    "                    if datalines == 1 and len(lines) > 2 and not re.match(date_search, lines, flags=0) and not re.match(text_line_search, lines, flags=0):\n",
    "                        write_line = 1                        \n",
    "                    if len(data_row) == len(header):\n",
    "                        if data_row[0] not in county_added_list:\n",
    "                            data = pd.DataFrame([data_row], columns=header)\n",
    "                            df = pd.concat([df, data])\n",
    "                            county_added_list.append(data_row[0])\n",
    "                col_num += 1\n",
    "    df.to_csv(f'data/TXT2/Text files of {files}.txt', index=False, sep=\"\\t\")\n",
    "    output = f'Data/Unclean PDF/Unclean Extract from {files} ({today})'\n",
    "    with open(output, 'wb') as output_pdf:\n",
    "        pdf_writer.write(output_pdf)\n",
    "\n",
    "#             print(df)\n",
    "                                    "
   ]
  },
  {
   "cell_type": "code",
   "execution_count": null,
   "metadata": {},
   "outputs": [],
   "source": [
    "# data = pd.DataFrame([data_row],columns=header)\n",
    "print(data)\n",
    "# print(header)"
   ]
  },
  {
   "cell_type": "markdown",
   "metadata": {},
   "source": [
    "Eventually you need to clean up the formating of the filenames. They are very sloppy coming out of DOH."
   ]
  },
  {
   "cell_type": "code",
   "execution_count": 62,
   "metadata": {},
   "outputs": [
    {
     "name": "stdout",
     "output_type": "stream",
     "text": [
      "r'^(\\d{8})'\n",
      "06062020\n",
      "r'\\w'\n",
      "06062020\n",
      "06-06-2020\n"
     ]
    }
   ],
   "source": [
    "files_t = '06062020state_reports_latest.pdf'\n",
    "date_format = [\"r'^(\\d{8})'\",\"r'^([\\d_]+)\\w'\"]\n",
    "for date_types in date_format:\n",
    "    print(date_types)\n",
    "    output = re.findall(r'^(\\d{8})', files_t, flags=0)[0]\n",
    "    print(output)\n",
    "#     report_date = f'{output[0]}{output[1]}-{output[2]}{output[3]}-{output[4]}{output[5]}{output[6]}{output[7]}'\n",
    "print(report_date)\n",
    "# print(report_date)\n",
    "# if bool(re.search(r'^\\d{8}',test, flags=0)) == True:\n",
    "#     print('FUCK YEAR FUCKERS!!!!')"
   ]
  },
  {
   "cell_type": "markdown",
   "metadata": {},
   "source": [
    "## Extracting a page range from the PDFs"
   ]
  },
  {
   "cell_type": "markdown",
   "metadata": {},
   "source": [
    "### Steps:\n",
    "- [X] Open PDFs\n",
    "- [ ] Extract the page range 12-25\n",
    "- [ ] Convert that to a word document\n",
    "- [ ] Find the pages that contain the words \"Coronavirus: All persons tested\"\n",
    "- [ ] Extract just those two pages from the Word Document or the \n"
   ]
  },
  {
   "cell_type": "code",
   "execution_count": null,
   "metadata": {},
   "outputs": [],
   "source": [
    "print(os.listdir(pdf_output_path))"
   ]
  },
  {
   "cell_type": "code",
   "execution_count": null,
   "metadata": {},
   "outputs": [],
   "source": [
    "\n",
    "def ExtractPDF(input_path):\n",
    "    import datetime\n",
    "    today = datetime.date.today()\n",
    "    pdf_writer = PdfFileWriter()\n",
    "    \n",
    "    for files in os.listdir(input_path):\n",
    "        pdf_file = open(f'{input_path}/{files}','rb')\n",
    "        print(files)\n",
    "        print(pdf_file)\n",
    "        \n",
    "        print(f'This is the filename: {files}')\n",
    "        pdfreader = PdfFileReader(pdf_file)\n",
    "        num_pages = pdfreader.numPages\n",
    "        for pages in range(12,26):\n",
    "            page = pdfreader.getPage(pages)\n",
    "#             print(page)\n",
    "            pdf_writer.addPage(page)\n",
    "        output = f'Data/Unclean PDF/Unclean Extract from {files} ({today})'\n",
    "        with open(output, 'wb') as output_pdf:\n",
    "            pdf_writer.write(output_pdf)\n",
    "        break\n",
    "ExtractPDF(pdf_output_path)"
   ]
  },
  {
   "cell_type": "code",
   "execution_count": null,
   "metadata": {},
   "outputs": [],
   "source": [
    "driver.close()"
   ]
  },
  {
   "cell_type": "code",
   "execution_count": null,
   "metadata": {},
   "outputs": [],
   "source": [
    "os.listdir(cwd)"
   ]
  },
  {
   "cell_type": "code",
   "execution_count": null,
   "metadata": {},
   "outputs": [],
   "source": [
    "print(cwd)\n",
    "os.chdir('Data/Unclean PDF')\n"
   ]
  },
  {
   "cell_type": "code",
   "execution_count": null,
   "metadata": {},
   "outputs": [],
   "source": []
  }
 ],
 "metadata": {
  "kernelspec": {
   "display_name": "Python 3",
   "language": "python",
   "name": "python3"
  },
  "language_info": {
   "codemirror_mode": {
    "name": "ipython",
    "version": 3
   },
   "file_extension": ".py",
   "mimetype": "text/x-python",
   "name": "python",
   "nbconvert_exporter": "python",
   "pygments_lexer": "ipython3",
   "version": "3.7.6"
  }
 },
 "nbformat": 4,
 "nbformat_minor": 1
}
