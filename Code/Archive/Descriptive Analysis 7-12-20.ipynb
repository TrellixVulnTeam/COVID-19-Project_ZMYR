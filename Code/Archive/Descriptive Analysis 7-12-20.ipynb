{
 "cells": [
  {
   "cell_type": "markdown",
   "metadata": {},
   "source": [
    "# COVID Descriptive Data Analysis"
   ]
  },
  {
   "cell_type": "code",
   "execution_count": 4,
   "metadata": {},
   "outputs": [],
   "source": [
    "import pandas as pd\n",
    "import matplotlib.pyplot as plt\n",
    "import numpy as np\n",
    "import seaborn as sns\n",
    "import datetime"
   ]
  },
  {
   "cell_type": "markdown",
   "metadata": {},
   "source": [
    "## Creating Date Variables"
   ]
  },
  {
   "cell_type": "code",
   "execution_count": 5,
   "metadata": {},
   "outputs": [],
   "source": [
    "today = datetime.date.today()\n",
    "mon = today.month\n",
    "day = today.day\n",
    "year = today.year\n",
    "date_today = f'{mon}-{day}-{year}'"
   ]
  },
  {
   "cell_type": "code",
   "execution_count": 6,
   "metadata": {},
   "outputs": [
    {
     "ename": "NameError",
     "evalue": "name 'df' is not defined",
     "output_type": "error",
     "traceback": [
      "\u001b[1;31m---------------------------------------------------------------------------\u001b[0m",
      "\u001b[1;31mNameError\u001b[0m                                 Traceback (most recent call last)",
      "\u001b[1;32m<ipython-input-6-9cbf6e99e6a0>\u001b[0m in \u001b[0;36m<module>\u001b[1;34m\u001b[0m\n\u001b[1;32m----> 1\u001b[1;33m \u001b[0mday1\u001b[0m \u001b[1;33m=\u001b[0m \u001b[0mstr\u001b[0m\u001b[1;33m(\u001b[0m\u001b[0mdf\u001b[0m\u001b[1;33m.\u001b[0m\u001b[0mdate\u001b[0m\u001b[1;33m.\u001b[0m\u001b[0mmin\u001b[0m\u001b[1;33m(\u001b[0m\u001b[1;33m)\u001b[0m\u001b[1;33m)\u001b[0m\u001b[1;33m[\u001b[0m\u001b[1;36m5\u001b[0m\u001b[1;33m:\u001b[0m\u001b[1;36m10\u001b[0m\u001b[1;33m]\u001b[0m\u001b[1;33m.\u001b[0m\u001b[0mreplace\u001b[0m\u001b[1;33m(\u001b[0m\u001b[1;34m'-'\u001b[0m\u001b[1;33m,\u001b[0m\u001b[1;34m'/'\u001b[0m\u001b[1;33m)\u001b[0m\u001b[1;33m\u001b[0m\u001b[1;33m\u001b[0m\u001b[0m\n\u001b[0m\u001b[0;32m      2\u001b[0m \u001b[0mdayi\u001b[0m \u001b[1;33m=\u001b[0m \u001b[0mstr\u001b[0m\u001b[1;33m(\u001b[0m\u001b[0mdf\u001b[0m\u001b[1;33m.\u001b[0m\u001b[0mdate\u001b[0m\u001b[1;33m.\u001b[0m\u001b[0mmax\u001b[0m\u001b[1;33m(\u001b[0m\u001b[1;33m)\u001b[0m\u001b[1;33m)\u001b[0m\u001b[1;33m[\u001b[0m\u001b[1;36m5\u001b[0m\u001b[1;33m:\u001b[0m\u001b[1;36m10\u001b[0m\u001b[1;33m]\u001b[0m\u001b[1;33m.\u001b[0m\u001b[0mreplace\u001b[0m\u001b[1;33m(\u001b[0m\u001b[1;34m'-'\u001b[0m\u001b[1;33m,\u001b[0m\u001b[1;34m'/'\u001b[0m\u001b[1;33m)\u001b[0m\u001b[1;33m\u001b[0m\u001b[1;33m\u001b[0m\u001b[0m\n",
      "\u001b[1;31mNameError\u001b[0m: name 'df' is not defined"
     ]
    }
   ],
   "source": [
    "day1 = str(df.date.min())[5:10].replace('-','/')\n",
    "dayi = str(df.date.max())[5:10].replace('-','/')"
   ]
  },
  {
   "cell_type": "code",
   "execution_count": null,
   "metadata": {},
   "outputs": [],
   "source": [
    "#converting date to datetime type\n",
    "df.date = pd.to_datetime(df.date)\n",
    "df['week'] = df['date'].dt.week"
   ]
  },
  {
   "cell_type": "code",
   "execution_count": null,
   "metadata": {},
   "outputs": [],
   "source": [
    "df['day'] = df['date'].dt.day_name()\n",
    "print(df['day'].head())"
   ]
  },
  {
   "cell_type": "code",
   "execution_count": null,
   "metadata": {},
   "outputs": [],
   "source": [
    "qa_path = '../data/QA Checks/'\n",
    "graphics_path = '../Graphics/'\n",
    "data_path = '../data/'"
   ]
  },
  {
   "cell_type": "code",
   "execution_count": null,
   "metadata": {},
   "outputs": [],
   "source": [
    "df = pd.read_csv(f'{data_path}Final COVID Only Dataset 7-13-2020 (CLEAN).csv', sep=',')"
   ]
  },
  {
   "cell_type": "code",
   "execution_count": null,
   "metadata": {},
   "outputs": [],
   "source": [
    "df.columns"
   ]
  },
  {
   "cell_type": "code",
   "execution_count": null,
   "metadata": {},
   "outputs": [],
   "source": [
    "df.columns = df.columns.str.lower()"
   ]
  },
  {
   "cell_type": "code",
   "execution_count": null,
   "metadata": {},
   "outputs": [],
   "source": [
    "d = df.groupby('day').new_cases.agg(['mean','median'])\n",
    "type(d)"
   ]
  },
  {
   "cell_type": "code",
   "execution_count": null,
   "metadata": {},
   "outputs": [],
   "source": [
    "df['new_cases'].describe().to_frame(name='Descriptive Analsysis of Daily Case Counts')\n"
   ]
  },
  {
   "cell_type": "code",
   "execution_count": null,
   "metadata": {},
   "outputs": [],
   "source": [
    "df['total_tested'].describe().to_frame(name='Descriptive Analsysis of Total Tests Completed')"
   ]
  },
  {
   "cell_type": "code",
   "execution_count": null,
   "metadata": {},
   "outputs": [],
   "source": [
    "df.info()"
   ]
  },
  {
   "cell_type": "markdown",
   "metadata": {},
   "source": [
    "> *Style options for seaborn*"
   ]
  },
  {
   "cell_type": "code",
   "execution_count": null,
   "metadata": {},
   "outputs": [],
   "source": [
    "# sns.distplot(df['new_cases'], label='dfdf')\n",
    "# plt.title('Distribution of New COVID Case Data')\n",
    "# plt.tight_layout()\n",
    "# plt.savefig(f'{graphics_path}Distribution of New Case Data ({date_today}).png')"
   ]
  },
  {
   "cell_type": "code",
   "execution_count": null,
   "metadata": {},
   "outputs": [],
   "source": [
    "new_case = pd.DataFrame(df.groupby('county').new_cases.agg(['mean','min','max', 'count']))\n",
    "new_case_dt = pd.DataFrame(df.groupby('date').new_cases.agg(['mean','min','max', 'count']))\n",
    "new_case.sort_values(by='mean' , inplace = True, ascending=False)"
   ]
  },
  {
   "cell_type": "code",
   "execution_count": null,
   "metadata": {},
   "outputs": [],
   "source": [
    "new_case['mean'].head(10).to_frame(name='Top 10 Average Number of New Cases')"
   ]
  },
  {
   "cell_type": "code",
   "execution_count": null,
   "metadata": {},
   "outputs": [],
   "source": []
  },
  {
   "cell_type": "code",
   "execution_count": null,
   "metadata": {},
   "outputs": [],
   "source": [
    "new_case['mean'].tail(10).to_frame(name='Bottom 10 Average Number of New Cases')"
   ]
  },
  {
   "cell_type": "code",
   "execution_count": null,
   "metadata": {},
   "outputs": [],
   "source": [
    "sns.set(style='white')\n",
    "nc = sns.scatterplot(x='total_tested',  y= 'new_cases', data= df, label = 'New Cases')\n",
    "sns.scatterplot(x='total_tested',  y= 'new_negatives', data= df, alpha=.2 ,ax=nc, label = 'Neg Cases')\n",
    "plt.title('Scatter Plot of number of Total Daily Test (X) and Number of New Cases (Y)')\n",
    "plt.tight_layout()\n",
    "plt.ylabel('Number of Cases')\n",
    "plt.savefig(f'{graphics_path}Cases & Neg By Tests Completed 2({date_today}).png')\n",
    "\n"
   ]
  },
  {
   "cell_type": "code",
   "execution_count": null,
   "metadata": {},
   "outputs": [],
   "source": [
    "plt.style.use('fivethirtyeight')\n",
    "plt.plot(df['total_tested'],df['new_cases'],'bo', label='New Cases')\n",
    "plt.plot(df['total_tested'],df['new_negatives'], color='#332244',marker='o', linestyle='' , label= 'Negatives', alpha=0.2)\n",
    "plt.title('Scatter Plot of number of Total Daily Test (X) and Number of New Cases (Y)')\n",
    "plt.xlabel('Number of Tests')\n",
    "plt.ylabel('Number of New Cases')\n",
    "plt.savefig(f'{graphics_path}Cases & Neg By Tests Completed ({date_today}).png')\n",
    "plt.legend()\n",
    "\n",
    "plt.show()"
   ]
  },
  {
   "cell_type": "code",
   "execution_count": null,
   "metadata": {},
   "outputs": [],
   "source": [
    "sns.relplot(x='week',  y= 'new_cases', data= df)\n",
    "plt.ylabel('Number of New Cases')"
   ]
  },
  {
   "cell_type": "code",
   "execution_count": null,
   "metadata": {},
   "outputs": [],
   "source": [
    "\n",
    "new_case_dt"
   ]
  },
  {
   "cell_type": "code",
   "execution_count": null,
   "metadata": {},
   "outputs": [],
   "source": [
    "new_case_dt['date'] = new_case_dt.index\n",
    "sns.relplot(x='date',  y= 'mean',kind= 'line', height=10, aspect=1, data= new_case_dt )\n",
    "plt.title('Line Graph of Number of Day (X) and Number of New Cases (Y)')\n",
    "plt.ylabel('Mean Number of New Cases')\n",
    "plt.tight_layout()\n",
    "plt.savefig(f'{graphics_path}Line Cases on Day ({date_today}).png')\n"
   ]
  },
  {
   "cell_type": "code",
   "execution_count": null,
   "metadata": {},
   "outputs": [],
   "source": [
    "sns.relplot(x='week',  y= 'new_cases',kind= 'line', height=10, aspect=1, data= df )\n",
    "plt.title('Line Graph of number of Week (X) and Number of New Cases (Y)')\n",
    "plt.tight_layout()\n",
    "plt.ylabel('Mean Number of New Cases')\n",
    "plt.savefig(f'{graphics_path}Line Cases on Week ({date_today}).png')"
   ]
  },
  {
   "cell_type": "code",
   "execution_count": null,
   "metadata": {},
   "outputs": [],
   "source": [
    "sns.relplot(x='date',  y= 'mean',kind= 'line', height=10, aspect=1, data= new_case_dt )\n",
    "plt.title('Line Graph of Number of Day (X) and Number of New Cases (Y)')\n",
    "plt.ylabel('Mean Number of New Cases')\n",
    "plt.tight_layout()\n",
    "plt.savefig(f'{graphics_path}Line Cases on Day ({date_today}).png')"
   ]
  },
  {
   "cell_type": "code",
   "execution_count": null,
   "metadata": {},
   "outputs": [],
   "source": [
    "# Mess with this table to see if you can adjust the order of the week. \n",
    "sns.catplot(x ='day', y='new_cases', kind = 'bar' ,data =df ,height=15)\n",
    "plt.title(f'Florida Average Number of New COVID-19 Cases by Week Day ({day1}-{dayi})' )\n",
    "plt.tight_layout()\n",
    "plt.ylabel('Average Number of New Cases')\n",
    "plt.savefig(f'{graphics_path}Bar Graph Day of Week & New Cases ({date_today}).png')"
   ]
  },
  {
   "cell_type": "code",
   "execution_count": null,
   "metadata": {},
   "outputs": [],
   "source": [
    "# v = sns.catplot(x ='day', y='new_cases', kind = 'violin', inner = None, data= df)\n",
    "# sns.swarmplot(x ='day', y='new_cases',color='k', size= 3, data=df, ax=v.ax)"
   ]
  },
  {
   "cell_type": "code",
   "execution_count": null,
   "metadata": {},
   "outputs": [],
   "source": [
    "sns.relplot(x='total_tested',  y= 'new_cases', hue='day',height=10,data= df)\n",
    "plt.title('Scatter Plot of Number of New Cases on Number of Tests Completed')\n",
    "plt.ylabel('Number of New Cases')\n",
    "plt.tight_layout()\n",
    "plt.savefig(f'{graphics_path} Scatter Plot by Day ({date_today}).png')"
   ]
  },
  {
   "cell_type": "markdown",
   "metadata": {},
   "source": [
    "# Information and Reference"
   ]
  },
  {
   "cell_type": "code",
   "execution_count": null,
   "metadata": {},
   "outputs": [],
   "source": [
    "sns.relplot(x='week',  y= 'new_cases',kind= 'line', data= df , ci = 'sd')"
   ]
  },
  {
   "cell_type": "code",
   "execution_count": null,
   "metadata": {},
   "outputs": [],
   "source": [
    "sns.relplot(x='total_tested',  y= 'new_cases', data= df, hue = 'date')"
   ]
  },
  {
   "cell_type": "code",
   "execution_count": null,
   "metadata": {},
   "outputs": [],
   "source": [
    "sns.set(style='white')\n",
    "sns.relplot(x='total_tested',  y= 'new_cases', data= df, hue = 'county')"
   ]
  },
  {
   "cell_type": "code",
   "execution_count": null,
   "metadata": {},
   "outputs": [],
   "source": [
    "dir(sns)"
   ]
  },
  {
   "cell_type": "code",
   "execution_count": null,
   "metadata": {},
   "outputs": [],
   "source": [
    "dir(pd)"
   ]
  },
  {
   "cell_type": "code",
   "execution_count": null,
   "metadata": {},
   "outputs": [],
   "source": []
  },
  {
   "cell_type": "markdown",
   "metadata": {},
   "source": [
    "# The diffrent methods available in the Pandas Datetime type"
   ]
  },
  {
   "cell_type": "code",
   "execution_count": null,
   "metadata": {},
   "outputs": [],
   "source": [
    "dir(df['date'].dt)"
   ]
  },
  {
   "cell_type": "code",
   "execution_count": null,
   "metadata": {},
   "outputs": [],
   "source": [
    "dir(plt)"
   ]
  },
  {
   "cell_type": "markdown",
   "metadata": {},
   "source": [
    "> *Style options for matplotlib*"
   ]
  },
  {
   "cell_type": "code",
   "execution_count": null,
   "metadata": {},
   "outputs": [],
   "source": [
    "plt.style.available"
   ]
  },
  {
   "cell_type": "markdown",
   "metadata": {},
   "source": [
    "# Exporting COVID Dataset After New Desciptive Analysis Vars "
   ]
  },
  {
   "cell_type": "code",
   "execution_count": null,
   "metadata": {},
   "outputs": [],
   "source": [
    "df.to_csv(f'{data_path}COVID Data Set Only (Final) {date_today}.csv' , sep = ',', index=False)\n",
    "new_case.to_csv(f'{data_path}Descriptive Analysis Cases by County {date_today}.csv', sep=',', index=False)"
   ]
  },
  {
   "cell_type": "code",
   "execution_count": null,
   "metadata": {},
   "outputs": [],
   "source": []
  }
 ],
 "metadata": {
  "kernelspec": {
   "display_name": "Python 3",
   "language": "python",
   "name": "python3"
  },
  "language_info": {
   "codemirror_mode": {
    "name": "ipython",
    "version": 3
   },
   "file_extension": ".py",
   "mimetype": "text/x-python",
   "name": "python",
   "nbconvert_exporter": "python",
   "pygments_lexer": "ipython3",
   "version": "3.7.6"
  }
 },
 "nbformat": 4,
 "nbformat_minor": 4
}
