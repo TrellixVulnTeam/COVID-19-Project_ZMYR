{
 "cells": [
  {
   "cell_type": "markdown",
   "metadata": {},
   "source": [
    "# Code to compile a large number of PDF files into one file"
   ]
  },
  {
   "cell_type": "code",
   "execution_count": 13,
   "metadata": {},
   "outputs": [],
   "source": [
    "def Pdf_Compile(file_path, output_path):\n",
    "    import PyPDF2\n",
    "    import os\n",
    "    #os.chdir(file_path)\n",
    "    file_list = []\n",
    "    all_file = os.listdir(file_path)\n",
    "    for files in all_file:\n",
    "        if files.find('.pdf') >= 0:\n",
    "            file_list.append(f'{file_path}/{files}')\n",
    "\n",
    "    pdfWriter = PyPDF2.PdfFileWriter()\n",
    "    for file in file_list:\n",
    "        pdfReader = PyPDF2.PdfFileReader(file)\n",
    "        for pagenum in range(pdfReader.numPages):\n",
    "            page = pdfReader.getPage(pagenum)\n",
    "            pdfWriter.addPage(page)\n",
    "    with open(output_path, 'wb') as o:\n",
    "        pdfWriter.write(o)\n",
    "Pdf_Compile('./test', './test/output/final.pdf')"
   ]
  },
  {
   "cell_type": "code",
   "execution_count": 14,
   "metadata": {},
   "outputs": [],
   "source": [
    "Pdf_Compile('./test', './test/output/final.pdf')"
   ]
  },
  {
   "cell_type": "code",
   "execution_count": null,
   "metadata": {},
   "outputs": [],
   "source": [
    "import os\n",
    "os.listdir('./test')"
   ]
  }
 ],
 "metadata": {
  "kernelspec": {
   "display_name": "Python 3",
   "language": "python",
   "name": "python3"
  },
  "language_info": {
   "codemirror_mode": {
    "name": "ipython",
    "version": 3
   },
   "file_extension": ".py",
   "mimetype": "text/x-python",
   "name": "python",
   "nbconvert_exporter": "python",
   "pygments_lexer": "ipython3",
   "version": "3.7.6"
  }
 },
 "nbformat": 4,
 "nbformat_minor": 4
}
