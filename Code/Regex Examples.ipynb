{
 "cells": [
  {
   "cell_type": "code",
   "execution_count": 3,
   "metadata": {},
   "outputs": [],
   "source": [
    "import re"
   ]
  },
  {
   "cell_type": "code",
   "execution_count": 1,
   "metadata": {},
   "outputs": [],
   "source": [
    "word_list = [ 'Broward', 'County', 'Alachua', 'Miami', 'Mar 10 2020' ,'this county hast o be the', 'Thais havd dg', 'Cotdg dfdafa asf']"
   ]
  },
  {
   "cell_type": "code",
   "execution_count": 16,
   "metadata": {},
   "outputs": [
    {
     "name": "stdout",
     "output_type": "stream",
     "text": [
      "Broward\n",
      "County\n",
      "Alachua\n",
      "Miami\n",
      "Mar\n",
      "this\n",
      "Thais\n",
      "Cotdg\n"
     ]
    }
   ],
   "source": [
    "search = r'\\w+'\n",
    "for word in word_list:\n",
    "    words= re.match(search, word)\n",
    "    print(words.group(0))"
   ]
  },
  {
   "cell_type": "code",
   "execution_count": null,
   "metadata": {},
   "outputs": [],
   "source": [
    "penis = 1\n",
    "dick = fr'^\\w+ {penis}\\Z'\n",
    "string = 'pussy 1'\n",
    "re.match(dick, string)"
   ]
  },
  {
   "cell_type": "code",
   "execution_count": 4,
   "metadata": {},
   "outputs": [
    {
     "name": "stdout",
     "output_type": "stream",
     "text": [
      "[1, 2, 3, 4]\n",
      "[1, 2, 3]\n"
     ]
    }
   ],
   "source": [
    "data = [1,2,3,4]\n",
    "print(data)\n",
    "data.pop(3)\n",
    "print(data)"
   ]
  },
  {
   "cell_type": "markdown",
   "metadata": {},
   "source": [
    "###### "
   ]
  }
 ],
 "metadata": {
  "kernelspec": {
   "display_name": "Python 3",
   "language": "python",
   "name": "python3"
  },
  "language_info": {
   "codemirror_mode": {
    "name": "ipython",
    "version": 3
   },
   "file_extension": ".py",
   "mimetype": "text/x-python",
   "name": "python",
   "nbconvert_exporter": "python",
   "pygments_lexer": "ipython3",
   "version": "3.7.6"
  }
 },
 "nbformat": 4,
 "nbformat_minor": 4
}
